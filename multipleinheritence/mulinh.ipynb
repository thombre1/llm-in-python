{
 "cells": [
  {
   "cell_type": "code",
   "execution_count": 7,
   "id": "73501863",
   "metadata": {},
   "outputs": [
    {
     "name": "stdout",
     "output_type": "stream",
     "text": [
      "Kutta is owned by Aditya\n"
     ]
    }
   ],
   "source": [
    "class Animal:\n",
    "    def __init__(self, name):\n",
    "        self.name = name\n",
    "    def sound(self,sound):\n",
    "        self.sound = sound\n",
    "        print(f\"{self.name} makes {self.sound}\")\n",
    "\n",
    "class Pet(Animal):\n",
    "    def __init__(self,name,owner):\n",
    "        Animal.__init__(self,name)\n",
    "        self.name = name\n",
    "        self.owner = owner\n",
    "        print(f\"{self.name} is owned by {self.owner}\")\n",
    "\n",
    "Doggie = Pet(\"Kutta\",\"Aditya\")\n",
    "    "
   ]
  }
 ],
 "metadata": {
  "kernelspec": {
   "display_name": "Python 3",
   "language": "python",
   "name": "python3"
  },
  "language_info": {
   "codemirror_mode": {
    "name": "ipython",
    "version": 3
   },
   "file_extension": ".py",
   "mimetype": "text/x-python",
   "name": "python",
   "nbconvert_exporter": "python",
   "pygments_lexer": "ipython3",
   "version": "3.10.16"
  }
 },
 "nbformat": 4,
 "nbformat_minor": 5
}
