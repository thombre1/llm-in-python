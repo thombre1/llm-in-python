{
 "cells": [
  {
   "cell_type": "code",
   "execution_count": 17,
   "id": "6e1cfca2",
   "metadata": {},
   "outputs": [
    {
     "name": "stdout",
     "output_type": "stream",
     "text": [
      "Hello my name is Aditya \n",
      "I am learning python language\n",
      "I am worried about my career 😔\n",
      "Everything will be just fineHey this is appended text, sorry if I overrode the prev\n"
     ]
    }
   ],
   "source": [
    "with open('test.txt','r') as file:\n",
    "    print(file.read())\n",
    "\n",
    " \n",
    "    with open('test.txt','a') as file:\n",
    "        file.write(\" Hey this is appended text, sorry if I overrode the prev\")"
   ]
  },
  {
   "cell_type": "code",
   "execution_count": null,
   "id": "505335ed",
   "metadata": {},
   "outputs": [
    {
     "name": "stdout",
     "output_type": "stream",
     "text": [
      "c:\\Users\\Aditya\\Desktop\\code\\learn\\python\\io\n",
      "The fill path is c:\\Users\\Aditya\\Desktop\\code\\learn\\python\\io\\folder\\file.txt\n",
      "True\n"
     ]
    }
   ],
   "source": [
    "import os\n",
    "print(os.getcwd())\n",
    "\n",
    "dir_path = \"folder\"\n",
    "file_path = \"file.txt\"\n",
    "\n",
    "## getting(more like creating) abs path\n",
    "full_path = os.path.join(os.getcwd(),dir_path,file_path)\n",
    "print(f\"The fill path is {full_path}\")\n",
    "\n",
    "## check if a file exists or not\n",
    "path = os.getcwd()\n",
    "if (os.path.exists(path)):\n",
    "    print(\"True\")\n",
    "\n",
    "else:\n",
    "    print(\"False\")\n",
    "\n",
    "\n"
   ]
  }
 ],
 "metadata": {
  "kernelspec": {
   "display_name": "Python 3",
   "language": "python",
   "name": "python3"
  },
  "language_info": {
   "codemirror_mode": {
    "name": "ipython",
    "version": 3
   },
   "file_extension": ".py",
   "mimetype": "text/x-python",
   "name": "python",
   "nbconvert_exporter": "python",
   "pygments_lexer": "ipython3",
   "version": "3.10.16"
  }
 },
 "nbformat": 4,
 "nbformat_minor": 5
}
