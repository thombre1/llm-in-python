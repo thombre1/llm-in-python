{
 "cells": [
  {
   "cell_type": "code",
   "execution_count": 1,
   "id": "6e1cfca2",
   "metadata": {},
   "outputs": [
    {
     "name": "stdout",
     "output_type": "stream",
     "text": [
      "Hello my name is Aditya \n",
      "I am learning python language\n",
      "I am worried about my career 😔\n",
      "Everything will be just fine\n"
     ]
    }
   ],
   "source": [
    "with open('test.txt','r') as file:\n",
    "    print(file.read())"
   ]
  }
 ],
 "metadata": {
  "kernelspec": {
   "display_name": "Python 3",
   "language": "python",
   "name": "python3"
  },
  "language_info": {
   "codemirror_mode": {
    "name": "ipython",
    "version": 3
   },
   "file_extension": ".py",
   "mimetype": "text/x-python",
   "name": "python",
   "nbconvert_exporter": "python",
   "pygments_lexer": "ipython3",
   "version": "3.10.16"
  }
 },
 "nbformat": 4,
 "nbformat_minor": 5
}
