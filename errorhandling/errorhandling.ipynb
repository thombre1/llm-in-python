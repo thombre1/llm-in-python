{
 "cells": [
  {
   "cell_type": "code",
   "execution_count": null,
   "id": "66642978",
   "metadata": {},
   "outputs": [],
   "source": []
  },
  {
   "cell_type": "code",
   "execution_count": 14,
   "id": "e0a6542d",
   "metadata": {},
   "outputs": [
    {
     "name": "stdout",
     "output_type": "stream",
     "text": [
      "[Errno 2] No such file or directory: './Requirements.txt'\n",
      "Execution Complete✅\n"
     ]
    }
   ],
   "source": [
    "try:\n",
    "    file=open(\"./Requirements.txt\",'r')\n",
    "    c=1/0\n",
    "except NameError as err:\n",
    "    print(err)\n",
    "except Exception as expMain:\n",
    "    print(expMain)\n",
    "\n",
    "## If the try is successful, instead of exception, execute else\n",
    "else:\n",
    "    print(\"No Error Bro😁\")\n",
    "\n",
    "# Finally clock is executed regardless of the error or not\n",
    "finally:\n",
    "    if 'file' in locals() and not file.closed():\n",
    "        file.close()\n",
    "        print(\"File closed\")\n",
    "    print(\"Execution Complete✅\")"
   ]
  }
 ],
 "metadata": {
  "kernelspec": {
   "display_name": "Python 3",
   "language": "python",
   "name": "python3"
  },
  "language_info": {
   "codemirror_mode": {
    "name": "ipython",
    "version": 3
   },
   "file_extension": ".py",
   "mimetype": "text/x-python",
   "name": "python",
   "nbconvert_exporter": "python",
   "pygments_lexer": "ipython3",
   "version": "3.10.16"
  }
 },
 "nbformat": 4,
 "nbformat_minor": 5
}
