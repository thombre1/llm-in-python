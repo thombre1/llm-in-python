{
 "cells": [
  {
   "cell_type": "code",
   "execution_count": 5,
   "id": "41d6bb7d",
   "metadata": {},
   "outputs": [
    {
     "name": "stdout",
     "output_type": "stream",
     "text": [
      "The tempreature in farenheit is: 69.80000000000001\n"
     ]
    }
   ],
   "source": [
    "## Temp Convertor\n",
    "def temp_convert(tempreature):\n",
    "    return tempreature * 1.8 + 32\n",
    "\n",
    "print(f\"The tempreature in farenheit is: {temp_convert(21)}\")"
   ]
  },
  {
   "cell_type": "code",
   "execution_count": 6,
   "id": "d4fe932d",
   "metadata": {},
   "outputs": [
    {
     "data": {
      "text/plain": [
       "True"
      ]
     },
     "execution_count": 6,
     "metadata": {},
     "output_type": "execute_result"
    }
   ],
   "source": [
    "## Password strength checker\n",
    "\n",
    "def pswd_check(password):\n",
    "    if len(password) < 8:\n",
    "        return False\n",
    "    if not any (char.isdigit() for char in password ):\n",
    "        return False\n",
    "    if not any(char.isupper() for char in password):\n",
    "        return False\n",
    "    if not any(char.islower() for char in password):\n",
    "        return False\n",
    "    if not any(char in \"@#$%^&*()\" for char in password):\n",
    "        return False\n",
    "\n",
    "    else:\n",
    "        return True\n",
    "    \n",
    "\n",
    "pswd_check(\"a4aaaaA$di\")"
   ]
  },
  {
   "cell_type": "code",
   "execution_count": 9,
   "id": "74077a50",
   "metadata": {},
   "outputs": [
    {
     "name": "stdout",
     "output_type": "stream",
     "text": [
      "total price is: 115\n"
     ]
    }
   ],
   "source": [
    "## Total price of cart items\n",
    "cart = [\n",
    "    {'name':'Blue Pen', 'quantity': 4 ,'price':20},\n",
    "    {'name':'Black Pen', 'quantity': 2 ,'price':10},\n",
    "    {'name':'Red Pen', 'quantity': 3 ,'price':5}\n",
    "]\n",
    "\n",
    "def total_cart_price(cart):\n",
    "    total_price = 0\n",
    "    for item in cart:\n",
    "        total_price += item['quantity'] * item['price']\n",
    "    \n",
    "    return total_price\n",
    "\n",
    "print(f\"total price is: {total_cart_price(cart)}\")"
   ]
  },
  {
   "cell_type": "code",
   "execution_count": 14,
   "id": "583c4e6f",
   "metadata": {},
   "outputs": [
    {
     "name": "stdout",
     "output_type": "stream",
     "text": [
      "Is the string s palindrome: True\n"
     ]
    }
   ],
   "source": [
    "###Check if string is palindrome\n",
    "\n",
    "s = \"oho\"\n",
    "\n",
    "def isaPalindrome(s):\n",
    "    s = s.lower().replace(\" \", \"\")\n",
    "    ### return if string and its reverse are equal\n",
    "    return s == s[::-1]\n",
    "    \n",
    "print(f\"Is the string s palindrome: {isaPalindrome(s)}\")"
   ]
  },
  {
   "cell_type": "code",
   "execution_count": 25,
   "id": "519bfc80",
   "metadata": {},
   "outputs": [
    {
     "name": "stdout",
     "output_type": "stream",
     "text": [
      "{'some': 1, 'values': 3, 'that': 2, 'i': 1, 'worte': 1, 'to': 1, 'show': 1, 'if': 1, 'repeated': 2, 'will': 1, 'be': 2, 'counted': 2, 'and': 1, 'not': 2}\n"
     ]
    }
   ],
   "source": [
    "# reading a file and counting the frequency of each word\n",
    "filepath = \"text.txt\"\n",
    "def count_words(file_path):\n",
    "    word_count = {} \n",
    "    with open(file_path,'r') as file:\n",
    "        for line in file:\n",
    "            ##split on empty spaces by default \" \"\n",
    "            words = line.split()\n",
    "            for word in words:\n",
    "                #remove all the special characters from being counted\n",
    "                word=word.lower().strip('!@#$%^&*()_+')\n",
    "                ## word_count is an array\n",
    "                word_count[word] = word_count.get(word,0)+1\n",
    "\n",
    "    return word_count\n",
    "\n",
    "\n",
    "print(count_words(filepath))"
   ]
  },
  {
   "cell_type": "code",
   "execution_count": null,
   "id": "0cde0a95",
   "metadata": {},
   "outputs": [
    {
     "name": "stdout",
     "output_type": "stream",
     "text": [
      "True\n",
      "False\n"
     ]
    }
   ],
   "source": [
    "## write a function to validate a email thru regex\n",
    "import re\n",
    "\n",
    "email=\"adityathombre1440@gmail.com\"\n",
    "not_email = \"agthombre\"\n",
    "\n",
    "def valid_email(email):\n",
    "    pattern = r'^[a-zA-Z0-9_.+-]+@[a-zA-Z0-9-]+\\.[a-zA-Z0-9-.]+$'\n",
    "    ##re.match() returns None if pattern doesnt match\n",
    "    return re.match(pattern,email) is not None\n",
    "\n",
    "print (valid_email(email))\n",
    "print(valid_email(not_email))"
   ]
  },
  {
   "cell_type": "code",
   "execution_count": 4,
   "id": "2aca0bce",
   "metadata": {},
   "outputs": [
    {
     "name": "stdout",
     "output_type": "stream",
     "text": [
      "[1, 4, 9, 16, 25, 36, 49]\n"
     ]
    }
   ],
   "source": [
    "# an iterable, numbers, is a list\n",
    "numbers = [1,2,3,4,5,6,7]\n",
    "\n",
    "# we will use map function to map a lamda function over numbers list that squares each element\n",
    "\n",
    "squared_list = list(map(lambda x:x*x , numbers))\n",
    "print(squared_list)"
   ]
  },
  {
   "cell_type": "code",
   "execution_count": 17,
   "id": "48e3bc35",
   "metadata": {},
   "outputs": [
    {
     "name": "stdout",
     "output_type": "stream",
     "text": [
      "[2, 4, 6]\n"
     ]
    }
   ],
   "source": [
    "even_numbers = list(filter(lambda x:x%2==0,numbers))\n",
    "print(even_numbers)"
   ]
  },
  {
   "cell_type": "code",
   "execution_count": 20,
   "id": "d666f9c8",
   "metadata": {},
   "outputs": [
    {
     "name": "stdout",
     "output_type": "stream",
     "text": [
      "['SrNo.', 'Name', 'Age']\n",
      "['1', 'Aditya', '20']\n",
      "['2', 'Raj', '21']\n",
      "['3', 'Tanjiro', '17']\n"
     ]
    }
   ],
   "source": [
    "import csv\n",
    "\n",
    "with open(\"example.csv\",mode=\"w\",newline=\"\") as file:\n",
    "    wrt = csv.writer(file)\n",
    "    wrt.writerow([\"SrNo.\",\"Name\",\"Age\"])\n",
    "    wrt.writerow([\"1\",\"Aditya\",\"20\"])\n",
    "    wrt.writerow([\"2\",\"Raj\",\"21\"])\n",
    "    wrt.writerow([\"3\",\"Tanjiro\",\"17\"])\n",
    "\n",
    "with open(\"example.csv\", mode=\"r\") as file:\n",
    "    read = csv.reader(file)\n",
    "    for row in read:\n",
    "        print(row)\n",
    "\n",
    "\n"
   ]
  },
  {
   "cell_type": "code",
   "execution_count": 33,
   "id": "7cc47002",
   "metadata": {},
   "outputs": [
    {
     "name": "stdout",
     "output_type": "stream",
     "text": [
      "2025-06-15 11:09:12.800475\n",
      "2025-06-11 11:09:12.800475\n"
     ]
    }
   ],
   "source": [
    "from datetime import datetime,timedelta\n",
    "\n",
    "print(datetime.now())\n",
    "print(datetime.now() - timedelta(days=4))"
   ]
  }
 ],
 "metadata": {
  "kernelspec": {
   "display_name": "Python 3",
   "language": "python",
   "name": "python3"
  },
  "language_info": {
   "codemirror_mode": {
    "name": "ipython",
    "version": 3
   },
   "file_extension": ".py",
   "mimetype": "text/x-python",
   "name": "python",
   "nbconvert_exporter": "python",
   "pygments_lexer": "ipython3",
   "version": "3.10.16"
  }
 },
 "nbformat": 4,
 "nbformat_minor": 5
}
