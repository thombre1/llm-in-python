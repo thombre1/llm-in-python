{
 "cells": [
  {
   "cell_type": "code",
   "execution_count": 9,
   "id": "c4453103",
   "metadata": {},
   "outputs": [
    {
     "name": "stdout",
     "output_type": "stream",
     "text": [
      "Aditya\n",
      "Your current balance is: 500/-\n",
      "50/- deposited✅.\n",
      "New Balance: 450\n",
      "Your current balance is: 450/-\n",
      "New Balance is 4450/-\n"
     ]
    }
   ],
   "source": [
    "class BankAccount:\n",
    "    def __init__(self,name,balance):\n",
    "        self.name = name\n",
    "        self.balance = balance\n",
    "    \n",
    "    def deposit(self,amount):\n",
    "        if(self.balance<0):\n",
    "            print(\"Can't Deposit! Balance Negative.\")\n",
    "        else:\n",
    "            self.balance+=amount\n",
    "            print(f\"New Balance is {self.balance}/-\")\n",
    "\n",
    "    def withdraw(self,amount):\n",
    "        if(self.balance<0):\n",
    "            print(\"Can't Withdraw! Balance Negative.\")\n",
    "        else:\n",
    "            self.balance-=amount\n",
    "            print(f\"{amount}/- deposited✅.\\nNew Balance: {self.balance}\")\n",
    "    \n",
    "    def get_balance(self):\n",
    "        print(f\"Your current balance is: {self.balance}/-\")\n",
    "\n",
    "\n",
    "account1 = BankAccount(\"Aditya\",500)\n",
    "print(account1.name)\n",
    "account1.get_balance()\n",
    "account1.withdraw(50)\n",
    "account1.get_balance()\n",
    "account1.deposit(4000)"
   ]
  }
 ],
 "metadata": {
  "kernelspec": {
   "display_name": "Python 3",
   "language": "python",
   "name": "python3"
  },
  "language_info": {
   "codemirror_mode": {
    "name": "ipython",
    "version": 3
   },
   "file_extension": ".py",
   "mimetype": "text/x-python",
   "name": "python",
   "nbconvert_exporter": "python",
   "pygments_lexer": "ipython3",
   "version": "3.10.16"
  }
 },
 "nbformat": 4,
 "nbformat_minor": 5
}
